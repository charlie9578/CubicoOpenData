{
 "cells": [
  {
   "cell_type": "markdown",
   "id": "e2e43ded",
   "metadata": {},
   "source": [
    "# Download Plant Data from Zenodo\n",
    "\n",
    "## Improvements\n",
    "1. Clean up and functionise/classify"
   ]
  },
  {
   "cell_type": "code",
   "execution_count": 1,
   "id": "a28bd165",
   "metadata": {},
   "outputs": [],
   "source": [
    "import requests\n",
    "import os\n",
    "import hashlib"
   ]
  },
  {
   "cell_type": "code",
   "execution_count": 2,
   "id": "9155fc45",
   "metadata": {},
   "outputs": [],
   "source": [
    "def download_file(url,outfile):\n",
    "    # download a file from the web based on its url\n",
    "    \n",
    "    get_response = requests.get(url,stream=True)\n",
    "    \n",
    "    chunk_number = 0\n",
    "    with open(outfile, 'wb') as f:\n",
    "        \n",
    "        for chunk in get_response.iter_content(chunk_size=1024*1024):\n",
    "            \n",
    "            chunk_number = chunk_number + 1\n",
    "            \n",
    "            print(str(chunk_number) + ' MB downloaded', end='\\r')\n",
    "            \n",
    "            if chunk: # filter out keep-alive new chunks\n",
    "                f.write(chunk)"
   ]
  },
  {
   "cell_type": "code",
   "execution_count": 3,
   "id": "69b9358b",
   "metadata": {},
   "outputs": [],
   "source": [
    "def download_zenodo_data(record_id):\n",
    "    # download data from zenodo based on the zenodo record_id\n",
    "    #\n",
    "    # outputs:\n",
    "    # 1. record_details.json, which details the zenodo api details\n",
    "    # 2. all files available for the record_id\n",
    "    \n",
    "    \n",
    "    url_zenodo = r'https://zenodo.org/api/records/'\n",
    "\n",
    "    record_id = str(record_id)\n",
    "    \n",
    "    r = requests.get(url_zenodo + record_id)\n",
    "    \n",
    "    r_json = r.json()\n",
    "    \n",
    "    \n",
    "    print('======')\n",
    "    print('Title: ' + r_json['metadata']['title'])\n",
    "    print('Version: ' + r_json['metadata']['version'])\n",
    "    print('URL: ' + r_json['links']['latest_html'])\n",
    "    print('Record DOI: ' + r_json['doi'])\n",
    "    print('License: ' + r_json['metadata']['license']['id'])\n",
    "    print('======\\n')\n",
    "    \n",
    "    \n",
    "    outfile_path = 'data/' + record_id + '/'\n",
    "    \n",
    "    # create outfile_path if it does not exist\n",
    "    if not os.path.exists(outfile_path):\n",
    "        os.makedirs(outfile_path)\n",
    "    \n",
    "    \n",
    "    # save record details to json file\n",
    "    outfile = outfile_path + 'record_details.json'\n",
    "    \n",
    "    with open(outfile, 'wb') as f:\n",
    "        f.write(r.content)\n",
    "\n",
    "        \n",
    "    # download all files\n",
    "    files = r_json['files']\n",
    "    for f in files:\n",
    "        \n",
    "        url_file = f['links']['self']\n",
    "        \n",
    "        file_name = f['key']\n",
    "                \n",
    "        outfile = outfile_path + file_name\n",
    "        \n",
    "        \n",
    "        # check if file exists\n",
    "        if os.path.exists(outfile):\n",
    "            \n",
    "            \n",
    "            # if it does check the checksum is correct\n",
    "            with open(outfile, 'rb') as f_check:\n",
    "                file_hash = hashlib.md5()\n",
    "                while chunk := f_check.read(8192):\n",
    "                    file_hash.update(chunk)\n",
    "        \n",
    "            if f['checksum'][4:]==file_hash.hexdigest():\n",
    "                print('File already exists: ' + file_name)\n",
    "            \n",
    "            \n",
    "            # download if the checksum isn't correct\n",
    "            else:\n",
    "                \n",
    "                print('Downloading: ' + file_name)\n",
    "                print('File size: ' + str(round(f['size']/(1024*1024),2)) + 'MB')       \n",
    "\n",
    "                download_file(url_file,outfile)\n",
    "\n",
    "                print('Saved to: ' + outfile + '\\n')\n",
    "        \n",
    "        \n",
    "        # download if the file doesn't exist\n",
    "        else:\n",
    "            \n",
    "            print('\\nDownloading: ' + file_name)\n",
    "            print('File size: ' + str(round(f['size']/(1024*1024),2)) + 'MB')       \n",
    "\n",
    "            download_file(url_file,outfile)\n",
    "\n",
    "            print('Saved to: ' + outfile + '\\n')"
   ]
  },
  {
   "cell_type": "code",
   "execution_count": 4,
   "id": "6bdb6ffd",
   "metadata": {},
   "outputs": [],
   "source": [
    "def download_asset_data(asset):\n",
    "    # simplify downloading of know open data assets from zenodo\n",
    "    \n",
    "    if asset.lower() == 'kelmarsh':\n",
    "        record_id = 5841834\n",
    "    elif asset.lower() == 'penmanshiel':\n",
    "        record_id = 5946808\n",
    "    else:\n",
    "        raise NameError('Zenodo record id undefined for: ' + asset)\n",
    "        \n",
    "    download_zenodo_data(record_id)"
   ]
  },
  {
   "cell_type": "code",
   "execution_count": 5,
   "id": "15ef7829",
   "metadata": {},
   "outputs": [],
   "source": [
    "asset = 'kelmarsh'"
   ]
  },
  {
   "cell_type": "code",
   "execution_count": 6,
   "id": "1ed25e48",
   "metadata": {},
   "outputs": [
    {
     "name": "stdout",
     "output_type": "stream",
     "text": [
      "======\n",
      "Title: Kelmarsh wind farm data\n",
      "Version: 0.0.3\n",
      "URL: https://zenodo.org/record/5841834\n",
      "Record DOI: 10.5281/zenodo.5841834\n",
      "License: CC-BY-4.0\n",
      "======\n",
      "\n",
      "File already exists: Kelmarsh_12.3MW_6xSenvion_MM92.kmz\n",
      "File already exists: Kelmarsh_Grid_3088.zip\n",
      "File already exists: Kelmarsh_PMU_3089.zip\n",
      "File already exists: Kelmarsh_SCADA_2016_3082.zip\n",
      "File already exists: Kelmarsh_SCADA_2017_3083.zip\n",
      "File already exists: Kelmarsh_SCADA_2018_3084.zip\n",
      "File already exists: Kelmarsh_SCADA_2019_3085.zip\n",
      "File already exists: Kelmarsh_SCADA_2020_3086.zip\n",
      "File already exists: Kelmarsh_SCADA_2021_3087.zip\n",
      "File already exists: Kelmarsh_WT_dataSignalMapping.csv\n",
      "File already exists: Kelmarsh_WT_static.csv\n"
     ]
    }
   ],
   "source": [
    "download_asset_data(asset)"
   ]
  },
  {
   "cell_type": "code",
   "execution_count": null,
   "id": "6466b83e",
   "metadata": {},
   "outputs": [],
   "source": []
  }
 ],
 "metadata": {
  "kernelspec": {
   "display_name": "Python 3 (ipykernel)",
   "language": "python",
   "name": "python3"
  },
  "language_info": {
   "codemirror_mode": {
    "name": "ipython",
    "version": 3
   },
   "file_extension": ".py",
   "mimetype": "text/x-python",
   "name": "python",
   "nbconvert_exporter": "python",
   "pygments_lexer": "ipython3",
   "version": "3.10.4"
  }
 },
 "nbformat": 4,
 "nbformat_minor": 5
}
